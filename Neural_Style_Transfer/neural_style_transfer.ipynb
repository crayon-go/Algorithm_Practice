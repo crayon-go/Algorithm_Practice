{
 "cells": [
  {
   "cell_type": "code",
   "execution_count": 1,
   "id": "0fbdc8ba",
   "metadata": {},
   "outputs": [
    {
     "name": "stderr",
     "output_type": "stream",
     "text": [
      "2023-01-11 16:02:35.667566: I tensorflow/core/platform/cpu_feature_guard.cc:193] This TensorFlow binary is optimized with oneAPI Deep Neural Network Library (oneDNN) to use the following CPU instructions in performance-critical operations:  AVX2 FMA\n",
      "To enable them in other operations, rebuild TensorFlow with the appropriate compiler flags.\n"
     ]
    }
   ],
   "source": [
    "import tensorflow as tf\n",
    "import keras\n",
    "\n",
    "tf.compat.v1.disable_eager_execution()"
   ]
  },
  {
   "cell_type": "code",
   "execution_count": 13,
   "id": "09e66934",
   "metadata": {},
   "outputs": [
    {
     "data": {
      "text/plain": [
       "'2.11.0'"
      ]
     },
     "execution_count": 13,
     "metadata": {},
     "output_type": "execute_result"
    }
   ],
   "source": [
    "tf.__version__"
   ]
  },
  {
   "cell_type": "markdown",
   "id": "150fb3d6",
   "metadata": {},
   "source": [
    "### 이미지 높이 400으로 거정, 비율이 맞게끔 너비 변환"
   ]
  },
  {
   "cell_type": "code",
   "execution_count": 4,
   "id": "e2c69a1f",
   "metadata": {},
   "outputs": [],
   "source": [
    "from tensorflow.keras.preprocessing.image import load_img, img_to_array, save_img\n",
    "\n",
    "# 변환하려는 이미지 경로\n",
    "target_image_path = './portrait.jpg'\n",
    "\n",
    "# 스타일 이미지 경로\n",
    "style_reference_image_path = './popova.jpg'\n",
    "\n",
    "# 생성된 사진의 차원\n",
    "width, height = load_img(target_image_path).size\n",
    "img_height = 400\n",
    "img_width = int(width * img_height / height)"
   ]
  },
  {
   "cell_type": "markdown",
   "id": "8d8fc121",
   "metadata": {},
   "source": [
    "### VGG19 사용"
   ]
  },
  {
   "cell_type": "code",
   "execution_count": 5,
   "id": "5c9479ac",
   "metadata": {},
   "outputs": [],
   "source": [
    "import numpy as np\n",
    "from tensorflow.keras.applications import vgg19\n",
    "\n",
    "def preprocess_image(image_path):\n",
    "    img = load_img(image_path, target_size=(img_height, img_width))\n",
    "    img = img_to_array(img)\n",
    "    img = np.expand_dims(img, axis=0)\n",
    "    img = vgg19.preprocess_input(img)\n",
    "    return img\n",
    "\n",
    "def deprocess_image(x):\n",
    "    # ImageNet의 평균 픽셀 값을 더함\n",
    "    x[:, :, 0] += 103.939\n",
    "    x[:, :, 1] += 116.779\n",
    "    x[:, :, 2] += 123.68\n",
    "    \n",
    "    # 'BGR'->'RGB'\n",
    "    x = x[:, :, ::-1]\n",
    "    x = np.clip(x, 0, 255).astype('uint8')\n",
    "    return x"
   ]
  },
  {
   "cell_type": "markdown",
   "id": "aabf18d5",
   "metadata": {},
   "source": [
    "### VGG19 네트워크 설정"
   ]
  },
  {
   "cell_type": "markdown",
   "id": "5794205f",
   "metadata": {},
   "source": [
    "- input_tensor는 타깃이미지, 스타일이미지, 생성된 이미지를 행으로 쌓게됨\n",
    "- 결국 input_tensor의 차원은 (3, 400, width, 3)이 됨"
   ]
  },
  {
   "cell_type": "code",
   "execution_count": 6,
   "id": "314507e9",
   "metadata": {},
   "outputs": [
    {
     "name": "stdout",
     "output_type": "stream",
     "text": [
      "Downloading data from https://storage.googleapis.com/tensorflow/keras-applications/vgg19/vgg19_weights_tf_dim_ordering_tf_kernels_notop.h5\n",
      "80134624/80134624 [==============================] - 4s 0us/step\n"
     ]
    },
    {
     "name": "stderr",
     "output_type": "stream",
     "text": [
      "2023-01-11 16:04:13.903660: I tensorflow/core/platform/cpu_feature_guard.cc:193] This TensorFlow binary is optimized with oneAPI Deep Neural Network Library (oneDNN) to use the following CPU instructions in performance-critical operations:  AVX2 FMA\n",
      "To enable them in other operations, rebuild TensorFlow with the appropriate compiler flags.\n",
      "2023-01-11 16:04:13.926642: I tensorflow/compiler/mlir/mlir_graph_optimization_pass.cc:357] MLIR V1 optimization pass is not enabled\n",
      "2023-01-11 16:04:13.956145: W tensorflow/c/c_api.cc:291] Operation '{name:'block5_conv4/kernel/Assign' id:383 op device:{requested: '', assigned: ''} def:{{{node block5_conv4/kernel/Assign}} = AssignVariableOp[_has_manual_control_dependencies=true, dtype=DT_FLOAT, validate_shape=false](block5_conv4/kernel, block5_conv4/kernel/Initializer/stateless_random_uniform)}}' was changed by setting attribute after it was run by a session. This mutation will have no effect, and will trigger an error in the future. Either don't modify nodes after running them or create a new session.\n"
     ]
    },
    {
     "name": "stdout",
     "output_type": "stream",
     "text": [
      "모델 로드 완료.\n"
     ]
    }
   ],
   "source": [
    "from tensorflow.keras import backend as K\n",
    "\n",
    "target_image = K.constant(preprocess_image(target_image_path))\n",
    "style_reference_image = K.constant(preprocess_image(style_reference_image_path))\n",
    "\n",
    "# 생성된 이미지를 담을 플레이스홀더\n",
    "combination_image = K.placeholder((1, img_height, img_width, 3))\n",
    "\n",
    "# 세 개의 이미지를 하나의 배치로 합침\n",
    "input_tensor = K.concatenate([target_image,\n",
    "                              style_reference_image,\n",
    "                              combination_image], axis=0)\n",
    "\n",
    "# 세 이미지의 배치를 입력으로 받는 VGG 네트워크를 만듦\n",
    "# 이 모델은 사전 훈련된 ImageNet 가중치를 로드함\n",
    "model = vgg19.VGG19(input_tensor=input_tensor,\n",
    "                    weights='imagenet',\n",
    "                    include_top=False)\n",
    "print('모델 로드 완료.')"
   ]
  },
  {
   "cell_type": "markdown",
   "id": "5c390251",
   "metadata": {},
   "source": [
    "### 콘텐츠 손실과 스타일 손실을 정의"
   ]
  },
  {
   "cell_type": "code",
   "execution_count": 7,
   "id": "3537e3a9",
   "metadata": {},
   "outputs": [],
   "source": [
    "def content_loss(base, combination):\n",
    "    return K.sum(K.square(combination - base))\n",
    "\n",
    "def gram_matrix(x):\n",
    "    features = K.batch_flatten(K.permute_dimensions(x, (2, 0, 1)))\n",
    "    gram = K.dot(features, K.transpose(features))\n",
    "    return gram\n",
    "\n",
    "\n",
    "def style_loss(style, combination):\n",
    "    S = gram_matrix(style)\n",
    "    C = gram_matrix(combination)\n",
    "    channels = 3\n",
    "    size = img_height * img_width\n",
    "    return K.sum(K.square(S - C)) / (4. * (channels ** 2) * (size ** 2))"
   ]
  },
  {
   "cell_type": "markdown",
   "id": "de0f7631",
   "metadata": {},
   "source": [
    "### 두 손실 함수에 하나의 손실함수를 더 사용"
   ]
  },
  {
   "cell_type": "markdown",
   "id": "6d5e9697",
   "metadata": {},
   "source": [
    "- 생성된 이미지의 픽셀을 사용하여 계산하는 총 변위손실\n",
    "- 이로서 생성된 이미지가 공간적인 연속성을 가지도록 도와주며 픽셀의 격자 무늬가 과도하게 나타나는것을 막아줌"
   ]
  },
  {
   "cell_type": "code",
   "execution_count": 8,
   "id": "940cea39",
   "metadata": {},
   "outputs": [],
   "source": [
    "def total_variation_loss(x):\n",
    "    a = K.square(\n",
    "        x[:, :img_height - 1, :img_width - 1, :] - x[:, 1:, :img_width - 1, :])\n",
    "    b = K.square(\n",
    "        x[:, :img_height - 1, :img_width - 1, :] - x[:, :img_height - 1, 1:, :])\n",
    "    return K.sum(K.pow(a + b, 1.25))"
   ]
  },
  {
   "cell_type": "markdown",
   "id": "b7df6799",
   "metadata": {},
   "source": [
    "- 최소화할 최종 손실 정의. 앞에서 봤던 세 개의 손실 함수의 평균\n",
    "- 콘텐츠 손실은 block5_conv2 층 하나만을 사용해서 계산하고,\n",
    "- 스타일 손실을 계산하기 위해서는 하위 층과 상위 층에 걸쳐 여러 층을 사용해야 함.\n",
    "- 마지막으로 총 변위 손실으 추가해줌\n",
    "- content_weight는 생성된 이미지에 타깃 콘텐츠가 얼마나 나타나는지를 조정함. 크기가 클수록 더 많이 나타남"
   ]
  },
  {
   "cell_type": "code",
   "execution_count": 9,
   "id": "0f826785",
   "metadata": {
    "scrolled": false
   },
   "outputs": [],
   "source": [
    "# 층 이름과 활성화 텐서를 매핑한 딕셔너리\n",
    "outputs_dict = dict([(layer.name, layer.output) for layer in model.layers])\n",
    "\n",
    "# 콘텐츠 손실에 사용할 층\n",
    "content_layer = 'block5_conv2'\n",
    "\n",
    "# 스타일 손실에 사용할 층\n",
    "style_layers = ['block1_conv1',\n",
    "                'block2_conv1',\n",
    "                'block3_conv1',\n",
    "                'block4_conv1',\n",
    "                'block5_conv1']\n",
    "\n",
    "# 손실 항목의 가중치 평균에 사용할 가중치\n",
    "total_variation_weight = 1e-4\n",
    "style_weight = 1.\n",
    "content_weight = 0.025\n",
    "\n",
    "# 모든 손실 요소를 더해 하나의 스칼라 변수로 손실을 정의함\n",
    "loss = K.variable(0.)\n",
    "layer_features = outputs_dict[content_layer]\n",
    "target_image_features = layer_features[0, :, :, :]\n",
    "combination_features = layer_features[2, :, :, :]\n",
    "loss = loss + content_weight * content_loss(target_image_features,\n",
    "                                      combination_features)\n",
    "for layer_name in style_layers:\n",
    "    layer_features = outputs_dict[layer_name]\n",
    "    style_reference_features = layer_features[1, :, :, :]\n",
    "    combination_features = layer_features[2, :, :, :]\n",
    "    sl = style_loss(style_reference_features, combination_features)\n",
    "    loss = loss + (style_weight / len(style_layers)) * sl\n",
    "loss = loss + total_variation_weight * total_variation_loss(combination_image)"
   ]
  },
  {
   "cell_type": "code",
   "execution_count": null,
   "id": "86560180",
   "metadata": {},
   "outputs": [],
   "source": []
  },
  {
   "cell_type": "code",
   "execution_count": 10,
   "id": "eb4bfbcb",
   "metadata": {},
   "outputs": [],
   "source": [
    "# 손실에 대한 생성된 이미지의 그래디언트를 구함\n",
    "grads = K.gradients(loss, combination_image)[0]\n",
    "\n",
    "# 현재 손실과 그래디언트의 값을 추출하는 케라스 Function 객체임\n",
    "fetch_loss_and_grads = K.function([combination_image], [loss, grads])\n",
    "\n",
    "\n",
    "class Evaluator(object):\n",
    "\n",
    "    def __init__(self):\n",
    "        self.loss_value = None\n",
    "        self.grads_values = None\n",
    "\n",
    "    def loss(self, x):\n",
    "        assert self.loss_value is None\n",
    "        x = x.reshape((1, img_height, img_width, 3))\n",
    "        outs = fetch_loss_and_grads([x])\n",
    "        loss_value = outs[0]\n",
    "        grad_values = outs[1].flatten().astype('float64')\n",
    "        self.loss_value = loss_value\n",
    "        self.grad_values = grad_values\n",
    "        return self.loss_value\n",
    "\n",
    "    def grads(self, x):\n",
    "        assert self.loss_value is not None\n",
    "        grad_values = np.copy(self.grad_values)\n",
    "        self.loss_value = None\n",
    "        self.grad_values = None\n",
    "        return grad_values\n",
    "\n",
    "evaluator = Evaluator()"
   ]
  },
  {
   "cell_type": "code",
   "execution_count": null,
   "id": "3a73472f",
   "metadata": {},
   "outputs": [],
   "source": []
  },
  {
   "cell_type": "code",
   "execution_count": 11,
   "id": "ba2c925c",
   "metadata": {},
   "outputs": [
    {
     "name": "stdout",
     "output_type": "stream",
     "text": [
      "반복 횟수: 0\n"
     ]
    },
    {
     "name": "stderr",
     "output_type": "stream",
     "text": [
      "2023-01-11 16:04:22.893771: W tensorflow/c/c_api.cc:291] Operation '{name:'Variable/Assign' id:528 op device:{requested: '', assigned: ''} def:{{{node Variable/Assign}} = AssignVariableOp[_has_manual_control_dependencies=true, dtype=DT_FLOAT, validate_shape=false](Variable, Variable/Initializer/initial_value)}}' was changed by setting attribute after it was run by a session. This mutation will have no effect, and will trigger an error in the future. Either don't modify nodes after running them or create a new session.\n"
     ]
    },
    {
     "name": "stdout",
     "output_type": "stream",
     "text": [
      "현재 손실 값: 5486439400.0\n",
      "저장 이미지:  style_transfer_result_at_iteration_0.png\n",
      "0 번째 반복 완료: 156s\n",
      "반복 횟수: 1\n",
      "현재 손실 값: 1703190500.0\n",
      "저장 이미지:  style_transfer_result_at_iteration_1.png\n",
      "1 번째 반복 완료: 184s\n",
      "반복 횟수: 2\n",
      "현재 손실 값: 939667840.0\n",
      "저장 이미지:  style_transfer_result_at_iteration_2.png\n",
      "2 번째 반복 완료: 160s\n",
      "반복 횟수: 3\n",
      "현재 손실 값: 646600400.0\n",
      "저장 이미지:  style_transfer_result_at_iteration_3.png\n",
      "3 번째 반복 완료: 153s\n",
      "반복 횟수: 4\n",
      "현재 손실 값: 499751460.0\n",
      "저장 이미지:  style_transfer_result_at_iteration_4.png\n",
      "4 번째 반복 완료: 170s\n",
      "반복 횟수: 5\n",
      "현재 손실 값: 419118700.0\n",
      "저장 이미지:  style_transfer_result_at_iteration_5.png\n",
      "5 번째 반복 완료: 178s\n",
      "반복 횟수: 6\n",
      "현재 손실 값: 333847500.0\n",
      "저장 이미지:  style_transfer_result_at_iteration_6.png\n",
      "6 번째 반복 완료: 176s\n",
      "반복 횟수: 7\n",
      "현재 손실 값: 297155100.0\n",
      "저장 이미지:  style_transfer_result_at_iteration_7.png\n",
      "7 번째 반복 완료: 160s\n",
      "반복 횟수: 8\n",
      "현재 손실 값: 271620500.0\n",
      "저장 이미지:  style_transfer_result_at_iteration_8.png\n",
      "8 번째 반복 완료: 138s\n",
      "반복 횟수: 9\n",
      "현재 손실 값: 251456720.0\n",
      "저장 이미지:  style_transfer_result_at_iteration_9.png\n",
      "9 번째 반복 완료: 143s\n",
      "반복 횟수: 10\n",
      "현재 손실 값: 232869980.0\n",
      "저장 이미지:  style_transfer_result_at_iteration_10.png\n",
      "10 번째 반복 완료: 124s\n",
      "반복 횟수: 11\n",
      "현재 손실 값: 216133440.0\n",
      "저장 이미지:  style_transfer_result_at_iteration_11.png\n",
      "11 번째 반복 완료: 122s\n",
      "반복 횟수: 12\n",
      "현재 손실 값: 204099170.0\n",
      "저장 이미지:  style_transfer_result_at_iteration_12.png\n",
      "12 번째 반복 완료: 126s\n",
      "반복 횟수: 13\n",
      "현재 손실 값: 192180820.0\n",
      "저장 이미지:  style_transfer_result_at_iteration_13.png\n",
      "13 번째 반복 완료: 122s\n",
      "반복 횟수: 14\n",
      "현재 손실 값: 182689010.0\n",
      "저장 이미지:  style_transfer_result_at_iteration_14.png\n",
      "14 번째 반복 완료: 121s\n",
      "반복 횟수: 15\n",
      "현재 손실 값: 172199540.0\n",
      "저장 이미지:  style_transfer_result_at_iteration_15.png\n",
      "15 번째 반복 완료: 121s\n",
      "반복 횟수: 16\n",
      "현재 손실 값: 165055570.0\n",
      "저장 이미지:  style_transfer_result_at_iteration_16.png\n",
      "16 번째 반복 완료: 120s\n",
      "반복 횟수: 17\n",
      "현재 손실 값: 157979260.0\n",
      "저장 이미지:  style_transfer_result_at_iteration_17.png\n",
      "17 번째 반복 완료: 120s\n",
      "반복 횟수: 18\n",
      "현재 손실 값: 151872640.0\n",
      "저장 이미지:  style_transfer_result_at_iteration_18.png\n",
      "18 번째 반복 완료: 120s\n",
      "반복 횟수: 19\n",
      "현재 손실 값: 146981010.0\n",
      "저장 이미지:  style_transfer_result_at_iteration_19.png\n",
      "19 번째 반복 완료: 127s\n"
     ]
    }
   ],
   "source": [
    "from scipy.optimize import fmin_l_bfgs_b\n",
    "import time\n",
    "\n",
    "result_prefix = 'style_transfer_result'\n",
    "iterations = 20\n",
    "\n",
    "# 뉴럴 스타일 트랜스퍼의 손실을 최소화하기 위해 생성된 이미지에 대해 L-BFGS 최적화를 수행함\n",
    "# 초기 값은 타깃 이미지임\n",
    "# scipy.optimize.fmin_l_bfgs_b 함수가 벡터만 처리할 수 있기 때문에 이미지를 펼침\n",
    "x = preprocess_image(target_image_path)\n",
    "x = x.flatten()\n",
    "for i in range(iterations):\n",
    "    print('반복 횟수:', i)\n",
    "    start_time = time.time()\n",
    "    x, min_val, info = fmin_l_bfgs_b(evaluator.loss, x,\n",
    "                                     fprime=evaluator.grads, maxfun=20)\n",
    "    print('현재 손실 값:', min_val)\n",
    "    # 생성된 현재 이미지를 저장함\n",
    "    img = x.copy().reshape((img_height, img_width, 3))\n",
    "    img = deprocess_image(img)\n",
    "    fname = result_prefix + '_at_iteration_%d.png' % i\n",
    "    save_img(fname, img)\n",
    "    end_time = time.time()\n",
    "    print('저장 이미지: ', fname)\n",
    "    print('%d 번째 반복 완료: %ds' % (i, end_time - start_time))"
   ]
  },
  {
   "cell_type": "code",
   "execution_count": null,
   "id": "bb78bab7",
   "metadata": {},
   "outputs": [],
   "source": []
  },
  {
   "cell_type": "code",
   "execution_count": null,
   "id": "fc8257cc",
   "metadata": {},
   "outputs": [],
   "source": [
    "from matplotlib import pyplot as plt"
   ]
  },
  {
   "cell_type": "code",
   "execution_count": null,
   "id": "bff5d8e5",
   "metadata": {},
   "outputs": [],
   "source": [
    "# 콘텐츠 이미지\n",
    "plt.imshow(load_img(target_image_path, target_size=(img_height, img_width)))\n",
    "plt.figure()\n",
    "\n",
    "# 스타일 이미지\n",
    "plt.imshow(load_img(style_reference_image_path, target_size=(img_height, img_width)))\n",
    "plt.figure()\n",
    "\n",
    "# 생성된 이미지\n",
    "plt.imshow(img)\n",
    "plt.show()"
   ]
  },
  {
   "cell_type": "code",
   "execution_count": null,
   "id": "71884940",
   "metadata": {},
   "outputs": [],
   "source": []
  },
  {
   "cell_type": "code",
   "execution_count": null,
   "id": "be45f044",
   "metadata": {},
   "outputs": [],
   "source": []
  },
  {
   "cell_type": "code",
   "execution_count": null,
   "id": "c3ce52a8",
   "metadata": {},
   "outputs": [],
   "source": []
  },
  {
   "cell_type": "code",
   "execution_count": null,
   "id": "bbc39050",
   "metadata": {},
   "outputs": [],
   "source": []
  },
  {
   "cell_type": "code",
   "execution_count": null,
   "id": "b3041493",
   "metadata": {},
   "outputs": [],
   "source": []
  },
  {
   "cell_type": "code",
   "execution_count": null,
   "id": "33923b55",
   "metadata": {},
   "outputs": [],
   "source": []
  },
  {
   "cell_type": "code",
   "execution_count": null,
   "id": "e2e0f215",
   "metadata": {},
   "outputs": [],
   "source": []
  },
  {
   "cell_type": "code",
   "execution_count": null,
   "id": "b79b0203",
   "metadata": {},
   "outputs": [],
   "source": []
  },
  {
   "cell_type": "code",
   "execution_count": null,
   "id": "d833c7c8",
   "metadata": {},
   "outputs": [],
   "source": []
  },
  {
   "cell_type": "code",
   "execution_count": null,
   "id": "acf48883",
   "metadata": {},
   "outputs": [],
   "source": []
  }
 ],
 "metadata": {
  "kernelspec": {
   "display_name": "hackerrank",
   "language": "python",
   "name": "hackerrank"
  },
  "language_info": {
   "codemirror_mode": {
    "name": "ipython",
    "version": 3
   },
   "file_extension": ".py",
   "mimetype": "text/x-python",
   "name": "python",
   "nbconvert_exporter": "python",
   "pygments_lexer": "ipython3",
   "version": "3.8.13"
  }
 },
 "nbformat": 4,
 "nbformat_minor": 5
}
